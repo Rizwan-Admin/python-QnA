{
 "cells": [
  {
   "cell_type": "code",
   "execution_count": null,
   "metadata": {},
   "outputs": [],
   "source": [
    "# 1. Program to determine if a person can drive based on age and license:\n",
    "\n",
    "# Question: Write a program that uses nested if statements to determine if a person can drive based on age and whether they have a license.\n",
    "\n",
    "age = int(input(\"enter your age: \"))\n",
    "Shaikh_license = input(\"Do you have a driver's license(yes/no)?\").lower()\n",
    "if age > = 18:\n",
    "    if Shaikh_license == 'yes':\n",
    "        print(\"you can drive\")\n",
    "    else:\n",
    "        print(\"you can not drive witout license.\")\n",
    "else:\n",
    "    print(\"you are too young to drive\")\n",
    "\n"
   ]
  },
  {
   "cell_type": "code",
   "execution_count": null,
   "metadata": {},
   "outputs": [],
   "source": []
  },
  {
   "cell_type": "markdown",
   "metadata": {},
   "source": []
  },
  {
   "cell_type": "markdown",
   "metadata": {},
   "source": []
  }
 ],
 "metadata": {
  "language_info": {
   "name": "python"
  }
 },
 "nbformat": 4,
 "nbformat_minor": 2
}
