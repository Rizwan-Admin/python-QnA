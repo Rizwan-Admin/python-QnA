{
 "cells": [
  {
   "cell_type": "code",
   "execution_count": 70,
   "metadata": {},
   "outputs": [
    {
     "name": "stdout",
     "output_type": "stream",
     "text": [
      "{}\n"
     ]
    }
   ],
   "source": [
    "# Question 1: Create an empty dictionary.\n",
    "e_dict = {}\n",
    "print(e_dict)\n"
   ]
  },
  {
   "cell_type": "code",
   "execution_count": 71,
   "metadata": {},
   "outputs": [
    {
     "name": "stdout",
     "output_type": "stream",
     "text": [
      "{'name': 'shaikh', 'age': 99}\n",
      "3089043090560\n",
      "<class 'dict'>\n"
     ]
    }
   ],
   "source": [
    "# Question 2: Create a dictionary with key-value pairs for a person's name and age.\n",
    "person = {'name': 'shaikh','age': 99}\n",
    "print(person) \n",
    "print(id(person))\n",
    "print(type(person))"
   ]
  },
  {
   "cell_type": "code",
   "execution_count": 72,
   "metadata": {},
   "outputs": [
    {
     "name": "stdout",
     "output_type": "stream",
     "text": [
      "99\n"
     ]
    }
   ],
   "source": [
    "\n",
    "# Question 3: Access the value associated with the key \"age\" in the person dictionary.\n",
    "A = person['age']\n",
    "print(A) \n"
   ]
  },
  {
   "cell_type": "code",
   "execution_count": 73,
   "metadata": {},
   "outputs": [
    {
     "name": "stdout",
     "output_type": "stream",
     "text": [
      "True\n",
      "True\n",
      "False\n"
     ]
    }
   ],
   "source": [
    "# Question 4: Check if a key exists in the person dictionary.\n",
    "KE1= \"age\" in person\n",
    "print(KE1)\n",
    "\n",
    "KE2= \"name\" in person\n",
    "print(KE2)\n",
    "\n",
    "KE3= \"city\" in person\n",
    "print(KE3)"
   ]
  },
  {
   "cell_type": "code",
   "execution_count": 74,
   "metadata": {},
   "outputs": [
    {
     "name": "stdout",
     "output_type": "stream",
     "text": [
      "{'name': 'shaikh', 'age': 99, 'city': 'New York'}\n"
     ]
    }
   ],
   "source": [
    "# Question 5: Add a new key-value pair \"city\" with the value \"New York\" to the person dictionary.\n",
    "person['city'] = 'New York'\n",
    "print(person)  \n"
   ]
  },
  {
   "cell_type": "code",
   "execution_count": 75,
   "metadata": {},
   "outputs": [
    {
     "name": "stdout",
     "output_type": "stream",
     "text": [
      "{'name': 'shaikh', 'city': 'New York'}\n"
     ]
    }
   ],
   "source": [
    "# Question 6: Remove the key-value pair with the key \"age\" from the person dictionary\n",
    "person.pop('age')\n",
    "print(person)  "
   ]
  },
  {
   "cell_type": "code",
   "execution_count": 76,
   "metadata": {},
   "outputs": [
    {
     "name": "stdout",
     "output_type": "stream",
     "text": [
      "name\n",
      "city\n"
     ]
    }
   ],
   "source": [
    "# Question 7: Iterate through the keys in the person dictionary.\n",
    "for key in person:\n",
    "    print(key)"
   ]
  },
  {
   "cell_type": "code",
   "execution_count": 77,
   "metadata": {},
   "outputs": [
    {
     "name": "stdout",
     "output_type": "stream",
     "text": [
      "shaikh\n",
      "New York\n"
     ]
    }
   ],
   "source": [
    "# Question 8: Iterate through the values in the person dictionary.\n",
    "for value in person.values():\n",
    "  print(value)"
   ]
  },
  {
   "cell_type": "code",
   "execution_count": 79,
   "metadata": {},
   "outputs": [
    {
     "name": "stdout",
     "output_type": "stream",
     "text": [
      "name:shaikh\n",
      "city:New York\n"
     ]
    }
   ],
   "source": [
    "# Question 9: Iterate through both keys and values in the person dictiona\n",
    "for key, value in person.items():\n",
    "    print(f\"{key}:{value}\")\n"
   ]
  },
  {
   "cell_type": "code",
   "execution_count": 87,
   "metadata": {},
   "outputs": [
    {
     "name": "stdout",
     "output_type": "stream",
     "text": [
      "{'name': 'Unknown', 'age': 'Unknown', 'city': 'Unknown'}\n",
      "{'name': '-', 'age': '-', 'city': '-', 'mobile': '-'}\n"
     ]
    }
   ],
   "source": [
    "# Question 10: Create a dictionary with default values using the dict.fromkeys() method.\n",
    "\n",
    "keys = ['name', 'age', 'city']\n",
    "default_dict = dict.fromkeys(keys, 'Unknown')\n",
    "print(default_dict)  \n",
    "# 2nd example\n",
    "k =[\"name\" ,\"age\", \"city\", \"mobile\"]\n",
    "d = dict.fromkeys(k, \"-\")\n",
    "print(d)\n",
    "\n"
   ]
  },
  {
   "cell_type": "code",
   "execution_count": null,
   "metadata": {},
   "outputs": [],
   "source": []
  }
 ],
 "metadata": {
  "kernelspec": {
   "display_name": "base",
   "language": "python",
   "name": "python3"
  },
  "language_info": {
   "codemirror_mode": {
    "name": "ipython",
    "version": 3
   },
   "file_extension": ".py",
   "mimetype": "text/x-python",
   "name": "python",
   "nbconvert_exporter": "python",
   "pygments_lexer": "ipython3",
   "version": "3.12.4"
  }
 },
 "nbformat": 4,
 "nbformat_minor": 2
}
