{
 "cells": [
  {
   "cell_type": "code",
   "execution_count": 4,
   "metadata": {},
   "outputs": [
    {
     "name": "stdout",
     "output_type": "stream",
     "text": [
      "UPPER CASE LATTERS:5\n",
      "LOWER CASE LATERS:31\n"
     ]
    }
   ],
   "source": [
    "'''Question: Write a Python function that accepts a string and counts the number of upper and\n",
    "lower case letters.'''\n",
    "\n",
    "def count_upper_lower(string):\n",
    "    upper_count = 0\n",
    "    lower_count = 0\n",
    "    for  char in string:\n",
    "      if char.isupper():\n",
    "          upper_count +=1\n",
    "      elif char.islower():\n",
    "          lower_count +=1\n",
    "    return upper_count, lower_count\n",
    "\n",
    "input_string = \"Welcome to learn DevOps & Cloud Engineering\"\n",
    "upper, lower = count_upper_lower(input_string)\n",
    "\n",
    "print(f\"UPPER CASE LATTERS:{upper}\")\n",
    "print(f\"LOWER CASE LATERS:{lower}\")\n",
    "\n"
   ]
  },
  {
   "cell_type": "code",
   "execution_count": 8,
   "metadata": {},
   "outputs": [
    {
     "name": "stdout",
     "output_type": "stream",
     "text": [
      "[1, 2, 3, 4, 5]\n"
     ]
    }
   ],
   "source": [
    "'''\n",
    "\n",
    "Write a Python function that takes a list and returns a new list with distinct\n",
    "elements from the first list.\n",
    "input_list = [1, 2, 2, 3, 4, 4, 5]\n",
    "output_list: [1, 2, 3, 4, 5]\n",
    "'''\n",
    "\n",
    "def distinc_list(input_list):\n",
    "    return list (set(input_list))\n",
    "\n",
    "input_list = [1,2,2,3,4,4,5]\n",
    "output_list = distinc_list(input_list)\n",
    "print(output_list)"
   ]
  },
  {
   "cell_type": "code",
   "execution_count": 26,
   "metadata": {},
   "outputs": [
    {
     "name": "stdout",
     "output_type": "stream",
     "text": [
      "29is not a prime number\n"
     ]
    }
   ],
   "source": [
    "'''ArithmeticError3] Write a Python function that takes a number as a parameter and checks whether the\n",
    "number is prime or not.'''\n",
    "\n",
    "def is_prime(number):\n",
    "    if number <= 1:\n",
    "        return False\n",
    "    for i in range(2, int(number**0.5) + 1):\n",
    "        if number % 1== 0:\n",
    "            return False\n",
    "    return True \n",
    "\n",
    "num = 29\n",
    "if is_prime(num):\n",
    "    print(f\"{num}is a prime number\")\n",
    "else:\n",
    "    print(f\"{num}is not a prime number\")"
   ]
  },
  {
   "cell_type": "code",
   "execution_count": 28,
   "metadata": {},
   "outputs": [
    {
     "name": "stdout",
     "output_type": "stream",
     "text": [
      "2\n",
      "4\n",
      "6\n",
      "8\n",
      "10\n",
      "12\n"
     ]
    }
   ],
   "source": [
    "'''Write a Python function that takes a list of numbers and prints the even numbers\n",
    "from the list.'''\n",
    "\n",
    "\n",
    "def print_even_number(numbers):\n",
    "    for number in numbers:\n",
    "        if number % 2 == 0 :\n",
    "            print(number)\n",
    "\n",
    "Numbers_List = [1,2,3,4,5,6,7,8,9,10,11,12]\n",
    "print_even_number(Numbers_List)\n"
   ]
  },
  {
   "cell_type": "code",
   "execution_count": 30,
   "metadata": {},
   "outputs": [
    {
     "name": "stdout",
     "output_type": "stream",
     "text": [
      "2\n",
      "4\n",
      "6\n",
      "8\n"
     ]
    }
   ],
   "source": [
    "'''5] Write a Python function that checks whether a passed string is a palindrome or\n",
    "not.'''\n",
    "\n",
    "# CONFUSE!!!!!!!!!  NOT UNDERSTAND!\n",
    "\n",
    "def print_even_numbers(numbers):\n",
    "    for number in numbers:\n",
    "        if number % 2 == 0:  # Check if the number is even\n",
    "            print(number)\n",
    "\n",
    "# Example usage\n",
    "numbers_list = [1, 2, 3, 4, 5, 6, 7, 8]\n",
    "print_even_numbers(numbers_list)\n",
    "\n"
   ]
  },
  {
   "cell_type": "code",
   "execution_count": 34,
   "metadata": {},
   "outputs": [
    {
     "name": "stdout",
     "output_type": "stream",
     "text": [
      "Iteration 0\n",
      "Iteration 1\n",
      "Iteration 2\n"
     ]
    }
   ],
   "source": [
    "'''6] Write a Python function that takes a string containing Python code and executes it.\n",
    "'''\n",
    "# NOT UNDERSTAND!!!\n",
    "def execute_code(code_string):\n",
    "    try:\n",
    "        exec(code_string)\n",
    "    except Exception as e:\n",
    "        print(f\"Error executing code: {e}\")\n",
    "\n",
    "# Example usage\n",
    "code = \"\"\"\n",
    "for i in range(3):\n",
    "    print(f'Iteration {i}')\n",
    "\"\"\"\n",
    "execute_code(code)\n"
   ]
  },
  {
   "cell_type": "code",
   "execution_count": 36,
   "metadata": {},
   "outputs": [
    {
     "name": "stdout",
     "output_type": "stream",
     "text": [
      "Original list: [10, 20, 30, 40, 50]\n",
      "List after swapping: [10, 40, 30, 20, 50]\n"
     ]
    }
   ],
   "source": [
    "'''7] Write a Python function that takes a list and two indices, and swaps the elements\n",
    "at those indices.'''\n",
    "\n",
    "def swap_elements(lst, index1, index2):\n",
    "    # Check if indices are within the valid range\n",
    "    if index1 >= len(lst) or index2 >= len(lst) or index1 < 0 or index2 < 0:\n",
    "        print(\"Invalid indices\")\n",
    "        return\n",
    "    \n",
    "    # Swap the elements\n",
    "    lst[index1], lst[index2] = lst[index2], lst[index1]\n",
    "\n",
    "# Example usage\n",
    "my_list = [10, 20, 30, 40, 50]\n",
    "print(f\"Original list: {my_list}\")\n",
    "swap_elements(my_list, 1, 3)\n",
    "print(f\"List after swapping: {my_list}\")\n"
   ]
  },
  {
   "cell_type": "code",
   "execution_count": 37,
   "metadata": {},
   "outputs": [
    {
     "name": "stdout",
     "output_type": "stream",
     "text": [
      "The Lenght Of The List is:9\n"
     ]
    }
   ],
   "source": [
    "'''8] Write a Python function that calculates the length of a given list'''\n",
    "\n",
    "def list_lenght(lst):\n",
    "    return len(lst)\n",
    "\n",
    "new_list = [1,2,3,4,5,6,7,8,9]\n",
    "lenght =list_lenght(new_list)\n",
    "print(f\"The Lenght Of The List is:{len}\")\n"
   ]
  },
  {
   "cell_type": "code",
   "execution_count": 55,
   "metadata": {},
   "outputs": [
    {
     "data": {
      "text/plain": [
       "'\\ndef list_max(num1, num2):\\n    return max(num1, num2)\\nresult  = list_max(1, 2)\\nprint(result)\\n'"
      ]
     },
     "execution_count": 55,
     "metadata": {},
     "output_type": "execute_result"
    }
   ],
   "source": [
    "'''\n",
    "Write a Python function that takes two numbers as parameters and returns the\n",
    "maximum of the two.\n",
    "'''\n",
    "'''\n",
    "def list_max(num1, num2):\n",
    "    return max(num1, num2)\n",
    "result  = list_max(1, 2)\n",
    "print(result)\n",
    "'''\n",
    "\n",
    "\n"
   ]
  },
  {
   "cell_type": "code",
   "execution_count": 58,
   "metadata": {},
   "outputs": [
    {
     "name": "stdout",
     "output_type": "stream",
     "text": [
      "10\n"
     ]
    }
   ],
   "source": [
    "'''10] Write a Python function that takes two numbers as parameters and returns the\n",
    "minimum of the two'''\n",
    "\n",
    "def get_min(num1, num2):\n",
    "    return min (num1, num2)\n",
    "result = get_min(10, 20)\n",
    "print(result)"
   ]
  },
  {
   "cell_type": "code",
   "execution_count": null,
   "metadata": {},
   "outputs": [],
   "source": [
    "'''11] Write a Python function that takes a string as input, splits the string into words,\n",
    "reverses the order of words, and returns the reversed string.'''\n",
    "\n",
    "\n",
    "# not understan\n",
    "def reverse_words(input_string):\n",
    "    # Split the string into words\n",
    "    words = input_string.split()\n",
    "    # Reverse the list of words\n",
    "    reversed_words = words[::-1]\n",
    "    # Join the reversed list of words back into a string\n",
    "    reversed_string = ' '.join(reversed_words)\n",
    "    return reversed_string\n",
    "\n",
    "# Example usage\n",
    "input_str = \"Hello world this is Python\"\n",
    "reversed_str = reverse_words(input_str)\n",
    "print(f\"Reversed string: '{reversed_str}'\")\n"
   ]
  }
 ],
 "metadata": {
  "kernelspec": {
   "display_name": "base",
   "language": "python",
   "name": "python3"
  },
  "language_info": {
   "codemirror_mode": {
    "name": "ipython",
    "version": 3
   },
   "file_extension": ".py",
   "mimetype": "text/x-python",
   "name": "python",
   "nbconvert_exporter": "python",
   "pygments_lexer": "ipython3",
   "version": "3.12.4"
  }
 },
 "nbformat": 4,
 "nbformat_minor": 2
}
